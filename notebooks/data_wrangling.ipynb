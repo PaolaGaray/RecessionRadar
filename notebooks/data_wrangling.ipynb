{
 "cells": [
  {
   "cell_type": "code",
   "execution_count": null,
   "id": "c92df5cd-44de-49c0-ba31-1dcf74fc8521",
   "metadata": {},
   "outputs": [],
   "source": [
    "import json\n",
    "import pandas as pd"
   ]
  },
  {
   "cell_type": "markdown",
   "id": "8b39cb9c-9dc0-4cd6-817c-b6b51f16e997",
   "metadata": {},
   "source": [
    "Loading and processing the dataset"
   ]
  },
  {
   "cell_type": "code",
   "execution_count": null,
   "id": "d3ef3b24-74c5-4471-a4e0-8eff99f3de38",
   "metadata": {},
   "outputs": [],
   "source": [
    "def load_data(csv_path, nrows=None):\n",
    "    \"\"\"\n",
    "    Load and preprocess the Google Analytics customer revenue dataset.\n",
    "    \n",
    "    Parameters:\n",
    "        csv_path (str): Path to the CSV file.\n",
    "        nrows (int, optional): Number of rows to load for testing purposes. Loads all rows if None.\n",
    "        \n",
    "    Returns:\n",
    "        pd.DataFrame: Processed DataFrame with flattened JSON columns and formatted data.\n",
    "    \"\"\"\n",
    "    \n",
    "    # Define columns that contain JSON data\n",
    "    JSON_COLUMNS = ['device', 'geoNetwork', 'totals', 'trafficSource']\n",
    "    \n",
    "    # Load the CSV file with JSON columns parsed and fullVisitorId as a string\n",
    "    df = pd.read_csv(\n",
    "        csv_path,\n",
    "        converters={column: json.loads for column in JSON_COLUMNS},  # Convert JSON columns to dictionaries\n",
    "        dtype={'fullVisitorId': 'str'},  # Ensure fullVisitorId is loaded as a string for uniqueness\n",
    "        nrows=nrows  # Load specified number of rows if provided\n",
    "    )\n",
    "    \n",
    "    # Flatten each JSON column and merge back into the main DataFrame\n",
    "    for column in JSON_COLUMNS:\n",
    "        # Convert JSON data in the column to a DataFrame\n",
    "        column_as_df = pd.json_normalize(df[column])\n",
    "        \n",
    "        # Rename the columns to indicate their source (e.g., device_isMobile)\n",
    "        column_as_df.columns = [f\"{column}_{subcolumn}\" for subcolumn in column_as_df.columns]\n",
    "        \n",
    "        # Drop the original JSON column and merge the new flattened columns\n",
    "        df = df.drop(column, axis=1).join(column_as_df)\n",
    "    \n",
    "    # Drop columns that are either not useful or too complex for initial analysis\n",
    "    df.drop(columns=['customDimensions', 'hits'], inplace=True)\n",
    "    \n",
    "    # Fill missing values for key numerical columns with 0\n",
    "    # - totals_pageviews: Number of pages viewed in a session, can be 0 if no pages were viewed\n",
    "    # - totals_transactionRevenue: Revenue generated, fill missing with 0 as no revenue\n",
    "    df.fillna({\n",
    "        'totals_pageviews': 0,\n",
    "        'totals_transactionRevenue': 0\n",
    "    }, inplace=True)\n",
    "    \n",
    "    # Convert specific columns to integers for consistency\n",
    "    df['device_isMobile'] = df['device_isMobile'].astype(int)  # Convert isMobile to 1 or 0\n",
    "    df['totals_transactionRevenue'] = df['totals_transactionRevenue'].astype(int)  # Revenue as integer\n",
    "    \n",
    "    # Ensure all object (string) columns are consistently treated as strings\n",
    "    cat_cols = df.select_dtypes(include='object').columns\n",
    "    df[cat_cols] = df[cat_cols].astype(str)\n",
    "    \n",
    "    return df"
   ]
  }
 ],
 "metadata": {
  "kernelspec": {
   "display_name": "Python 3 (ipykernel)",
   "language": "python",
   "name": "python3"
  },
  "language_info": {
   "codemirror_mode": {
    "name": "ipython",
    "version": 3
   },
   "file_extension": ".py",
   "mimetype": "text/x-python",
   "name": "python",
   "nbconvert_exporter": "python",
   "pygments_lexer": "ipython3",
   "version": "3.12.2"
  }
 },
 "nbformat": 4,
 "nbformat_minor": 5
}
